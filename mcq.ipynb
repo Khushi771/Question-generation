{
 "cells": [
  {
   "cell_type": "code",
   "execution_count": 2,
   "id": "3cf0c69f",
   "metadata": {},
   "outputs": [
    {
     "name": "stdout",
     "output_type": "stream",
     "text": [
      "Collecting streamlit\n",
      "  Downloading streamlit-1.29.0-py2.py3-none-any.whl (8.4 MB)\n",
      "\u001b[2K     \u001b[90m━━━━━━━━━━━━━━━━━━━━━━━━━━━━━━━━━━━━━━━━\u001b[0m \u001b[32m8.4/8.4 MB\u001b[0m \u001b[31m2.7 MB/s\u001b[0m eta \u001b[36m0:00:00\u001b[0m00:01\u001b[0m00:01\u001b[0m\n",
      "\u001b[?25hCollecting altair<6,>=4.0 (from streamlit)\n",
      "  Downloading altair-5.2.0-py3-none-any.whl (996 kB)\n",
      "\u001b[2K     \u001b[90m━━━━━━━━━━━━━━━━━━━━━━━━━━━━━━━━━━━━━━━\u001b[0m \u001b[32m996.9/996.9 kB\u001b[0m \u001b[31m5.0 MB/s\u001b[0m eta \u001b[36m0:00:00\u001b[0m00:01\u001b[0m00:01\u001b[0m\n",
      "\u001b[?25hCollecting blinker<2,>=1.0.0 (from streamlit)\n",
      "  Downloading blinker-1.7.0-py3-none-any.whl (13 kB)\n",
      "Requirement already satisfied: cachetools<6,>=4.0 in /Users/khushi/anaconda3/lib/python3.11/site-packages (from streamlit) (5.3.1)\n",
      "Requirement already satisfied: click<9,>=7.0 in /Users/khushi/anaconda3/lib/python3.11/site-packages (from streamlit) (8.0.4)\n",
      "Requirement already satisfied: importlib-metadata<7,>=1.4 in /Users/khushi/anaconda3/lib/python3.11/site-packages (from streamlit) (6.0.0)\n",
      "Requirement already satisfied: numpy<2,>=1.19.3 in /Users/khushi/anaconda3/lib/python3.11/site-packages (from streamlit) (1.26.1)\n",
      "Requirement already satisfied: packaging<24,>=16.8 in /Users/khushi/anaconda3/lib/python3.11/site-packages (from streamlit) (23.0)\n",
      "Requirement already satisfied: pandas<3,>=1.3.0 in /Users/khushi/anaconda3/lib/python3.11/site-packages (from streamlit) (1.5.3)\n",
      "Requirement already satisfied: pillow<11,>=7.1.0 in /Users/khushi/anaconda3/lib/python3.11/site-packages (from streamlit) (9.4.0)\n",
      "Requirement already satisfied: protobuf<5,>=3.20 in /Users/khushi/anaconda3/lib/python3.11/site-packages (from streamlit) (4.21.12)\n",
      "Requirement already satisfied: pyarrow>=6.0 in /Users/khushi/anaconda3/lib/python3.11/site-packages (from streamlit) (11.0.0)\n",
      "Requirement already satisfied: python-dateutil<3,>=2.7.3 in /Users/khushi/anaconda3/lib/python3.11/site-packages (from streamlit) (2.8.2)\n",
      "Requirement already satisfied: requests<3,>=2.27 in /Users/khushi/anaconda3/lib/python3.11/site-packages (from streamlit) (2.29.0)\n",
      "Collecting rich<14,>=10.14.0 (from streamlit)\n",
      "  Downloading rich-13.7.0-py3-none-any.whl (240 kB)\n",
      "\u001b[2K     \u001b[90m━━━━━━━━━━━━━━━━━━━━━━━━━━━━━━━━━━━━━━━\u001b[0m \u001b[32m240.6/240.6 kB\u001b[0m \u001b[31m2.8 MB/s\u001b[0m eta \u001b[36m0:00:00\u001b[0m00:01\u001b[0m00:01\u001b[0m\n",
      "\u001b[?25hRequirement already satisfied: tenacity<9,>=8.1.0 in /Users/khushi/anaconda3/lib/python3.11/site-packages (from streamlit) (8.2.2)\n",
      "Requirement already satisfied: toml<2,>=0.10.1 in /Users/khushi/anaconda3/lib/python3.11/site-packages (from streamlit) (0.10.2)\n",
      "Requirement already satisfied: typing-extensions<5,>=4.3.0 in /Users/khushi/anaconda3/lib/python3.11/site-packages (from streamlit) (4.9.0)\n",
      "Collecting tzlocal<6,>=1.1 (from streamlit)\n",
      "  Downloading tzlocal-5.2-py3-none-any.whl (17 kB)\n",
      "Collecting validators<1,>=0.2 (from streamlit)\n",
      "  Downloading validators-0.22.0-py3-none-any.whl (26 kB)\n",
      "Collecting gitpython!=3.1.19,<4,>=3.0.7 (from streamlit)\n",
      "  Downloading GitPython-3.1.40-py3-none-any.whl (190 kB)\n",
      "\u001b[2K     \u001b[90m━━━━━━━━━━━━━━━━━━━━━━━━━━━━━━━━━━━━━━━\u001b[0m \u001b[32m190.6/190.6 kB\u001b[0m \u001b[31m4.5 MB/s\u001b[0m eta \u001b[36m0:00:00\u001b[0ma \u001b[36m0:00:01\u001b[0m\n",
      "\u001b[?25hCollecting pydeck<1,>=0.8.0b4 (from streamlit)\n",
      "  Downloading pydeck-0.8.1b0-py2.py3-none-any.whl (4.8 MB)\n",
      "\u001b[2K     \u001b[90m━━━━━━━━━━━━━━━━━━━━━━━━━━━━━━━━━━━━━━━━\u001b[0m \u001b[32m4.8/4.8 MB\u001b[0m \u001b[31m3.9 MB/s\u001b[0m eta \u001b[36m0:00:00\u001b[0m00:01\u001b[0m00:01\u001b[0m\n",
      "\u001b[?25hRequirement already satisfied: tornado<7,>=6.0.3 in /Users/khushi/anaconda3/lib/python3.11/site-packages (from streamlit) (6.2)\n",
      "Requirement already satisfied: jinja2 in /Users/khushi/anaconda3/lib/python3.11/site-packages (from altair<6,>=4.0->streamlit) (3.1.2)\n",
      "Requirement already satisfied: jsonschema>=3.0 in /Users/khushi/anaconda3/lib/python3.11/site-packages (from altair<6,>=4.0->streamlit) (4.17.3)\n",
      "Requirement already satisfied: toolz in /Users/khushi/anaconda3/lib/python3.11/site-packages (from altair<6,>=4.0->streamlit) (0.12.0)\n",
      "Collecting gitdb<5,>=4.0.1 (from gitpython!=3.1.19,<4,>=3.0.7->streamlit)\n",
      "  Downloading gitdb-4.0.11-py3-none-any.whl (62 kB)\n",
      "\u001b[2K     \u001b[90m━━━━━━━━━━━━━━━━━━━━━━━━━━━━━━━━━━━━━━━━\u001b[0m \u001b[32m62.7/62.7 kB\u001b[0m \u001b[31m1.7 MB/s\u001b[0m eta \u001b[36m0:00:00\u001b[0m\n",
      "\u001b[?25hRequirement already satisfied: zipp>=0.5 in /Users/khushi/anaconda3/lib/python3.11/site-packages (from importlib-metadata<7,>=1.4->streamlit) (3.11.0)\n",
      "Requirement already satisfied: pytz>=2020.1 in /Users/khushi/anaconda3/lib/python3.11/site-packages (from pandas<3,>=1.3.0->streamlit) (2022.7)\n",
      "Requirement already satisfied: six>=1.5 in /Users/khushi/anaconda3/lib/python3.11/site-packages (from python-dateutil<3,>=2.7.3->streamlit) (1.16.0)\n",
      "Requirement already satisfied: charset-normalizer<4,>=2 in /Users/khushi/anaconda3/lib/python3.11/site-packages (from requests<3,>=2.27->streamlit) (2.0.4)\n",
      "Requirement already satisfied: idna<4,>=2.5 in /Users/khushi/anaconda3/lib/python3.11/site-packages (from requests<3,>=2.27->streamlit) (3.4)\n",
      "Requirement already satisfied: urllib3<1.27,>=1.21.1 in /Users/khushi/anaconda3/lib/python3.11/site-packages (from requests<3,>=2.27->streamlit) (1.26.16)\n",
      "Requirement already satisfied: certifi>=2017.4.17 in /Users/khushi/anaconda3/lib/python3.11/site-packages (from requests<3,>=2.27->streamlit) (2023.5.7)\n",
      "Requirement already satisfied: markdown-it-py>=2.2.0 in /Users/khushi/anaconda3/lib/python3.11/site-packages (from rich<14,>=10.14.0->streamlit) (2.2.0)\n",
      "Requirement already satisfied: pygments<3.0.0,>=2.13.0 in /Users/khushi/anaconda3/lib/python3.11/site-packages (from rich<14,>=10.14.0->streamlit) (2.15.1)\n",
      "Collecting smmap<6,>=3.0.1 (from gitdb<5,>=4.0.1->gitpython!=3.1.19,<4,>=3.0.7->streamlit)\n",
      "  Downloading smmap-5.0.1-py3-none-any.whl (24 kB)\n",
      "Requirement already satisfied: MarkupSafe>=2.0 in /Users/khushi/anaconda3/lib/python3.11/site-packages (from jinja2->altair<6,>=4.0->streamlit) (2.1.1)\n",
      "Requirement already satisfied: attrs>=17.4.0 in /Users/khushi/anaconda3/lib/python3.11/site-packages (from jsonschema>=3.0->altair<6,>=4.0->streamlit) (22.1.0)\n",
      "Requirement already satisfied: pyrsistent!=0.17.0,!=0.17.1,!=0.17.2,>=0.14.0 in /Users/khushi/anaconda3/lib/python3.11/site-packages (from jsonschema>=3.0->altair<6,>=4.0->streamlit) (0.18.0)\n",
      "Requirement already satisfied: mdurl~=0.1 in /Users/khushi/anaconda3/lib/python3.11/site-packages (from markdown-it-py>=2.2.0->rich<14,>=10.14.0->streamlit) (0.1.0)\n",
      "Installing collected packages: validators, tzlocal, smmap, blinker, rich, pydeck, gitdb, gitpython, altair, streamlit\n",
      "Successfully installed altair-5.2.0 blinker-1.7.0 gitdb-4.0.11 gitpython-3.1.40 pydeck-0.8.1b0 rich-13.7.0 smmap-5.0.1 streamlit-1.29.0 tzlocal-5.2 validators-0.22.0\n"
     ]
    }
   ],
   "source": [
    "!pip3 install streamlit"
   ]
  },
  {
   "cell_type": "code",
   "execution_count": 7,
   "id": "c5c40c0f",
   "metadata": {},
   "outputs": [
    {
     "name": "stdout",
     "output_type": "stream",
     "text": [
      "Requirement already satisfied: pywsd in /Users/khushi/anaconda3/lib/python3.11/site-packages (1.2.5)\n",
      "Requirement already satisfied: nltk in /Users/khushi/anaconda3/lib/python3.11/site-packages (from pywsd) (3.7)\n",
      "Requirement already satisfied: numpy in /Users/khushi/anaconda3/lib/python3.11/site-packages (from pywsd) (1.26.1)\n",
      "Requirement already satisfied: pandas in /Users/khushi/anaconda3/lib/python3.11/site-packages (from pywsd) (1.5.3)\n",
      "Requirement already satisfied: wn==0.0.23 in /Users/khushi/anaconda3/lib/python3.11/site-packages (from pywsd) (0.0.23)\n",
      "Requirement already satisfied: six in /Users/khushi/anaconda3/lib/python3.11/site-packages (from pywsd) (1.16.0)\n",
      "Requirement already satisfied: click in /Users/khushi/anaconda3/lib/python3.11/site-packages (from nltk->pywsd) (8.0.4)\n",
      "Requirement already satisfied: joblib in /Users/khushi/anaconda3/lib/python3.11/site-packages (from nltk->pywsd) (1.2.0)\n",
      "Requirement already satisfied: regex>=2021.8.3 in /Users/khushi/anaconda3/lib/python3.11/site-packages (from nltk->pywsd) (2022.7.9)\n",
      "Requirement already satisfied: tqdm in /Users/khushi/anaconda3/lib/python3.11/site-packages (from nltk->pywsd) (4.65.0)\n",
      "Requirement already satisfied: python-dateutil>=2.8.1 in /Users/khushi/anaconda3/lib/python3.11/site-packages (from pandas->pywsd) (2.8.2)\n",
      "Requirement already satisfied: pytz>=2020.1 in /Users/khushi/anaconda3/lib/python3.11/site-packages (from pandas->pywsd) (2022.7)\n"
     ]
    }
   ],
   "source": [
    "!pip3 install pywsd"
   ]
  },
  {
   "cell_type": "code",
   "execution_count": 9,
   "id": "c4561605",
   "metadata": {},
   "outputs": [
    {
     "name": "stdout",
     "output_type": "stream",
     "text": [
      "Requirement already satisfied: nltk in /Users/khushi/anaconda3/lib/python3.11/site-packages (3.7)\r\n",
      "Requirement already satisfied: click in /Users/khushi/anaconda3/lib/python3.11/site-packages (from nltk) (8.0.4)\r\n",
      "Requirement already satisfied: joblib in /Users/khushi/anaconda3/lib/python3.11/site-packages (from nltk) (1.2.0)\r\n",
      "Requirement already satisfied: regex>=2021.8.3 in /Users/khushi/anaconda3/lib/python3.11/site-packages (from nltk) (2022.7.9)\r\n",
      "Requirement already satisfied: tqdm in /Users/khushi/anaconda3/lib/python3.11/site-packages (from nltk) (4.65.0)\r\n"
     ]
    }
   ],
   "source": [
    "!pip3 install nltk"
   ]
  },
  {
   "cell_type": "code",
   "execution_count": 12,
   "id": "117aa6e6",
   "metadata": {},
   "outputs": [
    {
     "name": "stdout",
     "output_type": "stream",
     "text": [
      "Collecting flashtext\n",
      "  Downloading flashtext-2.7.tar.gz (14 kB)\n",
      "  Preparing metadata (setup.py) ... \u001b[?25ldone\n",
      "\u001b[?25hBuilding wheels for collected packages: flashtext\n",
      "  Building wheel for flashtext (setup.py) ... \u001b[?25ldone\n",
      "\u001b[?25h  Created wheel for flashtext: filename=flashtext-2.7-py2.py3-none-any.whl size=9297 sha256=b4fc675d348b7fcb7ae1b169e69cf1373f8225617493cb96addc2abca2b3ce15\n",
      "  Stored in directory: /Users/khushi/Library/Caches/pip/wheels/49/20/47/f03dfa8a7239c54cbc44ff7389eefbf888d2c1873edaaec888\n",
      "Successfully built flashtext\n",
      "Installing collected packages: flashtext\n",
      "Successfully installed flashtext-2.7\n"
     ]
    }
   ],
   "source": [
    "!pip3 install flashtext"
   ]
  },
  {
   "cell_type": "code",
   "execution_count": 14,
   "id": "4f9c19cf",
   "metadata": {},
   "outputs": [
    {
     "name": "stdout",
     "output_type": "stream",
     "text": [
      "Collecting yake\n",
      "  Downloading yake-0.4.8-py2.py3-none-any.whl (60 kB)\n",
      "\u001b[2K     \u001b[90m━━━━━━━━━━━━━━━━━━━━━━━━━━━━━━━━━━━━━━━\u001b[0m \u001b[32m60.2/60.2 kB\u001b[0m \u001b[31m865.1 kB/s\u001b[0m eta \u001b[36m0:00:00\u001b[0m \u001b[36m0:00:01\u001b[0m\n",
      "\u001b[?25hRequirement already satisfied: tabulate in /Users/khushi/anaconda3/lib/python3.11/site-packages (from yake) (0.8.10)\n",
      "Requirement already satisfied: click>=6.0 in /Users/khushi/anaconda3/lib/python3.11/site-packages (from yake) (8.0.4)\n",
      "Requirement already satisfied: numpy in /Users/khushi/anaconda3/lib/python3.11/site-packages (from yake) (1.26.1)\n",
      "Collecting segtok (from yake)\n",
      "  Downloading segtok-1.5.11-py3-none-any.whl (24 kB)\n",
      "Requirement already satisfied: networkx in /Users/khushi/anaconda3/lib/python3.11/site-packages (from yake) (2.8.4)\n",
      "Requirement already satisfied: jellyfish in /Users/khushi/anaconda3/lib/python3.11/site-packages (from yake) (0.9.0)\n",
      "Requirement already satisfied: regex in /Users/khushi/anaconda3/lib/python3.11/site-packages (from segtok->yake) (2022.7.9)\n",
      "Installing collected packages: segtok, yake\n",
      "Successfully installed segtok-1.5.11 yake-0.4.8\n"
     ]
    }
   ],
   "source": [
    "!pip3 install yake"
   ]
  },
  {
   "cell_type": "code",
   "execution_count": 17,
   "id": "ebb8e3d5",
   "metadata": {},
   "outputs": [],
   "source": [
    "import streamlit as st\n",
    "import requests\n",
    "import json\n",
    "import re\n",
    "import random\n",
    "import spacy\n",
    "import string\n",
    "import scipy\n",
    "import nltk\n",
    "from string import punctuation\n",
    "from nltk import tokenize\n",
    "from pywsd.similarity import max_similarity\n",
    "from pywsd.lesk import adapted_lesk, simple_lesk, cosine_lesk\n",
    "from nltk.corpus import wordnet as wn\n",
    "from nltk.tokenize import sent_tokenize\n",
    "from flashtext import KeywordProcessor\n",
    "import yake\n",
    "import io\n",
    "from IPython.display import Markdown, display\n",
    "from random import shuffle\n",
    "from io import StringIO\n",
    "import torch"
   ]
  },
  {
   "cell_type": "code",
   "execution_count": 12,
   "id": "a4aa7bea",
   "metadata": {},
   "outputs": [],
   "source": [
    "class Distractors:\n",
    "    \n",
    "    def get_distractors_wordnet(syn, word):\n",
    "        distractors = []\n",
    "        word = word.lower()\n",
    "        orig_word = word\n",
    "        if len(word.split()) > 0:\n",
    "            word = word.replace(\" \", \"_\")\n",
    "        hypernym = syn.hypernyms()\n",
    "        if len(hypernym) == 0:\n",
    "            return distractors\n",
    "        for item in hypernym[0].hyponyms():\n",
    "            name = item.lemmas()[0].name()\n",
    "            if name == orig_word:\n",
    "                continue\n",
    "            name = name.replace(\"_\", \" \")\n",
    "            name = \" \".join(w.capitalize() for w in name.split())\n",
    "            if name is not None and name not in distractors:\n",
    "                distractors.append(name)\n",
    "        return distractors\n",
    "    \n",
    "    def get_wordsense(sent, word):\n",
    "        word = word.lower()\n",
    "        if len(word.split())>0 :\n",
    "            word = word.replace(\" \", \"_\")\n",
    "        synsets = wn.synsets(word, 'n')\n",
    "        if synsets:\n",
    "            wup = max_similarity(sent, word, 'wup', pos='n')\n",
    "            adapted_lesk_output = adapted_lesk(sent, word, pos='n')\n",
    "            lowest_index = min (synsets.index(wup), synsets.index(adapted_lesk_output))\n",
    "            return synsets[lowest_index]\n",
    "        else:\n",
    "            return None\n",
    "        \n",
    "    def get_distractors_conceptnet(word):\n",
    "        word = word.lower()\n",
    "        orig_word = word\n",
    "        if len(word.split()) > 0:\n",
    "            word = word.replace(\" \", \"_\")\n",
    "        distractors = []\n",
    "        url = \"http://api.conceptnet.io/query?node=/c/en/%s/n&rel=/r/PartOf&start=/c/en/%s&limit=5\"%(word,word)\n",
    "        obj = requests.get(url).json()\n",
    "        for edge in obj['edges']:\n",
    "            link = edge['end']['term']\n",
    "            url2 = \"http://api.conceptnet.io/query?node=%s&rel=/r/PartOf&end=%s&limit=10\"%(link,link)\n",
    "            obj2 = requests.get(url2).json()\n",
    "            for edge in obj2['edges']:\n",
    "                word2 = edge['start']['label']\n",
    "                if word2 not in distractors and orig_word.lower() not in word2.lower():\n",
    "                    distractors.append(word2)\n",
    "        return distractors\n",
    "    \n",
    "    def generate_option(keyword_sentence_mapping):\n",
    "        key_distractor_list = {}\n",
    "        for keyword in keyword_sentence_mapping:\n",
    "            wordsense = Distractors.get_wordsense(keyword_sentence_mapping[keyword][0], keyword)\n",
    "            if wordsense:\n",
    "                distractors = Distractors.get_distractors_wordnet(wordsense, keyword)\n",
    "                if len(distractors) == 0:\n",
    "                    distractors = Distractors.get_distractors_conceptnet(keyword)\n",
    "                if len(distractors) != 0:\n",
    "                    key_distractor_list[keyword] = distractors\n",
    "            else:\n",
    "                distractors = Distractors.get_distractors_conceptnet(keyword)\n",
    "                if len(distractors) != 0:\n",
    "                    key_distractor_list[keyword] = distractors\n",
    "        index = 1\n",
    "        st.text(\"*******************************************************\")\n",
    "        st.text(\"Multiple Choice Questions\")\n",
    "        st.write(\"*******************************************************\")\n",
    "        for each in key_distractor_list:\n",
    "            sentence = keyword_sentence_mapping[each][0]\n",
    "            pattern = re.compile(each, re.IGNORECASE)\n",
    "            output = pattern.sub(\"_____\", sentence)\n",
    "#             st.write(\"%s)\"%(index), output)\n",
    "            st.write(f\"{index} . \\t\\t <span style='color:blue;'>{output}<span>\", unsafe_allow_html=True)\n",
    "            choices = [each.capitalize()] + key_distractor_list[each]\n",
    "            top4choices = choices[:4]\n",
    "            answer = top4choices[0]\n",
    "#             st.write(\"\\t\", top4choices[0])\n",
    "            random.shuffle(top4choices)\n",
    "            optionchoices = ['a', 'b', 'c', 'd']\n",
    "            for idx, choice in enumerate(top4choices):\n",
    "                if choice == answer:\n",
    "                    st.write(f\" \\t\\t {optionchoices[idx]} ) <span style='color:green;'>{choice}</span> \", unsafe_allow_html=True)\n",
    "                else:\n",
    "                    st.write(f\" \\t\\t {optionchoices[idx]} ) <span style='color:red;'>{choice}</span> \", unsafe_allow_html=True)\n",
    "            index = index + 1 "
   ]
  },
  {
   "cell_type": "code",
   "execution_count": null,
   "id": "a427f48f",
   "metadata": {},
   "outputs": [],
   "source": []
  },
  {
   "cell_type": "code",
   "execution_count": null,
   "id": "c8b38e35",
   "metadata": {},
   "outputs": [],
   "source": []
  },
  {
   "cell_type": "code",
   "execution_count": null,
   "id": "9541bfae",
   "metadata": {},
   "outputs": [],
   "source": []
  },
  {
   "cell_type": "code",
   "execution_count": null,
   "id": "e796e3e8",
   "metadata": {},
   "outputs": [],
   "source": []
  },
  {
   "cell_type": "code",
   "execution_count": null,
   "id": "c5619122",
   "metadata": {},
   "outputs": [],
   "source": []
  }
 ],
 "metadata": {
  "kernelspec": {
   "display_name": "myenv",
   "language": "python",
   "name": "myenv"
  },
  "language_info": {
   "codemirror_mode": {
    "name": "ipython",
    "version": 3
   },
   "file_extension": ".py",
   "mimetype": "text/x-python",
   "name": "python",
   "nbconvert_exporter": "python",
   "pygments_lexer": "ipython3",
   "version": "3.11.3"
  }
 },
 "nbformat": 4,
 "nbformat_minor": 5
}
