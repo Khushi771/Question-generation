{
 "cells": [
  {
   "cell_type": "code",
   "execution_count": 16,
   "id": "9a31db37",
   "metadata": {},
   "outputs": [],
   "source": [
    "import yake\n",
    "from summarizer import Summarizer\n",
    "from keybert import KeyBERT\n",
    "from nltk.tokenize import sent_tokenize\n",
    "from flashtext import KeywordProcessor\n",
    "from transformers import AutoTokenizer, AutoModelForSeq2SeqLM"
   ]
  },
  {
   "cell_type": "code",
   "execution_count": 17,
   "id": "d7c469eb",
   "metadata": {},
   "outputs": [],
   "source": [
    "def bert_summ(sample_text):\n",
    "    \n",
    "#     model = Summarizer()\n",
    "#     result = model(text, ratio=0.4)\n",
    "#     summarized_text = ''.join(result)\n",
    "#     return summarized_text\n",
    "\n",
    "    tokenizer = AutoTokenizer.from_pretrained(\"facebook/bart-large-cnn\")\n",
    "    model = AutoModelForSeq2SeqLM.from_pretrained(\"facebook/bart-large-cnn\")\n",
    "\n",
    "\n",
    "    # Tokenize and summarize the text\n",
    "    inputs = tokenizer.encode(\"summarize: \" + sample_text, return_tensors=\"pt\", max_length=1024, truncation=True)\n",
    "    summary_ids = model.generate(inputs, max_length=150, min_length=50, length_penalty=2.0, num_beams=4, early_stopping=True)\n",
    "    summary = tokenizer.decode(summary_ids[0], skip_special_tokens=True)\n",
    "    return summary"
   ]
  },
  {
   "cell_type": "code",
   "execution_count": 12,
   "id": "dc251396",
   "metadata": {},
   "outputs": [],
   "source": [
    "def keyword_selection(text):\n",
    "    kw_extractor = yake.KeywordExtractor()\n",
    "    keywords_yake = kw_extractor.extract_keywords(text)\n",
    "    kw_model = KeyBERT()\n",
    "    keywords_bert = kw_model.extract_keywords(text)\n",
    "    keywords_yake_l = [i[0] for i in keywords_yake]\n",
    "    keywords_bert_l = [i[0] for i in keywords_bert]\n",
    "    keywords = keywords_yake_l + keywords_bert_l\n",
    "    return keywords"
   ]
  },
  {
   "cell_type": "code",
   "execution_count": 13,
   "id": "bd32a97f",
   "metadata": {},
   "outputs": [],
   "source": [
    "class SentenceMapping:\n",
    "    \n",
    "    def tokenize_sentences(text):\n",
    "        sentences = [sent_tokenize(text)]\n",
    "        sentences = [y for x in sentences for y in x]\n",
    "        sentences = [sentence.strip() for sentence in sentences if len(sentence)>20]\n",
    "        return sentences\n",
    "    \n",
    "    def get_sentences_for_keyword(keywords, sentences):\n",
    "        keyword_processor = KeywordProcessor()\n",
    "        keyword_sentences = {}\n",
    "        for word in keywords:\n",
    "            keyword_sentences[word] = []\n",
    "            keyword_processor.add_keyword(word)\n",
    "        for sentence in sentences:\n",
    "            keywords_found = keyword_processor.extract_keywords(sentence)\n",
    "            for key in keywords_found:\n",
    "                keyword_sentences[key].append(sentence)\n",
    "        for key in keyword_sentences.keys():\n",
    "            values = keyword_sentences[key]\n",
    "            values = sorted(values, key=len, reverse=True)\n",
    "            keyword_sentences[key] = values\n",
    "        lis = []\n",
    "        for x, y in keyword_sentences.items():\n",
    "            if len(y) == 0:\n",
    "                lis.append(x)\n",
    "            elif len(y) > 5:\n",
    "                lis.append(x)\n",
    "        for i in lis:\n",
    "            del keyword_sentences[i]\n",
    "        return keyword_sentences"
   ]
  },
  {
   "cell_type": "code",
   "execution_count": null,
   "id": "69f18891",
   "metadata": {},
   "outputs": [],
   "source": []
  },
  {
   "cell_type": "code",
   "execution_count": null,
   "id": "632270e0",
   "metadata": {},
   "outputs": [],
   "source": []
  }
 ],
 "metadata": {
  "kernelspec": {
   "display_name": "myenv",
   "language": "python",
   "name": "myenv"
  },
  "language_info": {
   "codemirror_mode": {
    "name": "ipython",
    "version": 3
   },
   "file_extension": ".py",
   "mimetype": "text/x-python",
   "name": "python",
   "nbconvert_exporter": "python",
   "pygments_lexer": "ipython3",
   "version": "3.11.3"
  }
 },
 "nbformat": 4,
 "nbformat_minor": 5
}
